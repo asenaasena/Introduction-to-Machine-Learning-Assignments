{
  "nbformat": 4,
  "nbformat_minor": 0,
  "metadata": {
    "colab": {
      "name": "Asena to ML - Fall 2020 - Prof. Papernot - Assignment 4",
      "provenance": [],
      "collapsed_sections": []
    },
    "kernelspec": {
      "display_name": "Python 3",
      "name": "python3"
    },
    "accelerator": "GPU"
  },
  "cells": [
    {
      "cell_type": "markdown",
      "metadata": {
        "id": "oz9MhPEUMrkC"
      },
      "source": [
        "**Assignment**: Designing and Tuning a Convolutional Neural Network (CNN)\n",
        "\n",
        "**Assignment Description**: There are four parts to this assignment\n",
        "\n",
        "1.   Building a CNN\n",
        "2.   Training and Tuning a CNN\n",
        "3.   Trying Out a New Dataset\n",
        "4.   Open-Ended Exploration\n",
        "\n",
        "You will be largely guided through the first two parts. The third and fourth part are discussion based questions. \n",
        "\n",
        "**Before the experiment, make sure that you have GPU enabled. This setting can be found under *Tools --> Settings***"
      ]
    },
    {
      "cell_type": "code",
      "metadata": {
        "id": "jHvVs2GqXxNF",
        "colab": {
          "base_uri": "https://localhost:8080/"
        },
        "outputId": "d6eee3a4-9d8c-4efc-fa58-fe7dc7823255"
      },
      "source": [
        "#Install Objax\n",
        "!pip --quiet install  objax\n",
        "import objax"
      ],
      "execution_count": 1,
      "outputs": [
        {
          "output_type": "stream",
          "text": [
            "\u001b[?25l\r\u001b[K     |███████▏                        | 10kB 16.5MB/s eta 0:00:01\r\u001b[K     |██████████████▎                 | 20kB 21.1MB/s eta 0:00:01\r\u001b[K     |█████████████████████▍          | 30kB 10.0MB/s eta 0:00:01\r\u001b[K     |████████████████████████████▌   | 40kB 5.2MB/s eta 0:00:01\r\u001b[K     |████████████████████████████████| 51kB 3.6MB/s \n",
            "\u001b[?25h  Building wheel for objax (setup.py) ... \u001b[?25l\u001b[?25hdone\n"
          ],
          "name": "stdout"
        }
      ]
    },
    {
      "cell_type": "code",
      "metadata": {
        "id": "xqQf8f2RBDcx"
      },
      "source": [
        "import tensorflow as tf \n",
        "import tensorflow_datasets as tfds\n",
        "import numpy as np\n",
        "import jax.numpy as jn\n",
        "import random \n",
        "import matplotlib.pyplot as plt"
      ],
      "execution_count": 2,
      "outputs": []
    },
    {
      "cell_type": "markdown",
      "metadata": {
        "id": "w_7vcWRFO39r"
      },
      "source": [
        "##**Part 1. Building a CNN** \n",
        "\n",
        "Before we build our CNN model, let's first import a dataset. For our experiment, we load the CIFAR10 dataset from Tensorflow's dataset repository. The CIFAR10 dataset consists of 60,000 32x32 colour images in 10 classes, with 6000 images per class. The 10 different classes represent airplanes, cars, birds, cats, deer, dogs, frogs, horses, ships, and trucks.\n",
        "\n",
        "After loading the dataset, we split the dataset into training, validation and test set. The dataset is originally stored as 50,000 training examples and 10,000 test examples. Instead, we will combine them together and make our own split.\n",
        "\n",
        "Do not change split ratio for now."
      ]
    },
    {
      "cell_type": "code",
      "metadata": {
        "colab": {
          "base_uri": "https://localhost:8080/"
        },
        "id": "e5VQDzs1XodT",
        "outputId": "e4c26d2a-f134-4897-f25a-8cfeda6824dc"
      },
      "source": [
        "#.load_data() by default returns a split between training and test set. \n",
        "# We then adjust the training set into a format that can be accepted by our CNN\n",
        "(X_train, Y_train), (X_test, Y_test) = tf.keras.datasets.cifar10.load_data()\n",
        "print(X_train.shape)\n",
        "X_train = X_train.transpose(0, 3, 1, 2) / 255.0\n",
        "\n",
        "Y_train = Y_train.flatten()\n",
        "X_test = X_test.transpose(0, 3, 1, 2) / 255.0\n",
        "Y_test = Y_test.flatten()\n",
        "\n",
        "np.random.seed(1)\n",
        "# To create a validation set, we first concate the original splitted dataset into a single dataset \n",
        "# then randomly shuffle the images and labels in the same way (seed = 1)\n",
        "X_data = np.concatenate([X_train, X_test], axis = 0)\n",
        "Y_data = np.concatenate([Y_train, Y_test], axis = 0)\n",
        "\n",
        "N = np.arange(len(X_data))\n",
        "np.random.shuffle(N)\n",
        "X_data = X_data[N]\n",
        "Y_data = Y_data[N]\n",
        "\n",
        "#Next, we partition the randomly shuffled dataset into training, validation and testset according a ratio\n",
        "train_ratio = 0.80\n",
        "valid_ratio = 0.1\n",
        "n_train = int(len(X_data) * train_ratio)\n",
        "n_valid = int(len(X_data) * valid_ratio)\n",
        "\n",
        "X_train, X_valid, X_test = X_data[:n_train], X_data[n_train:n_train+n_valid], X_data[n_train+n_valid:]\n",
        "Y_train, Y_valid, Y_test = Y_data[:n_train], Y_data[n_train:n_train+n_valid], Y_data[n_train+n_valid:]"
      ],
      "execution_count": 3,
      "outputs": [
        {
          "output_type": "stream",
          "text": [
            "Downloading data from https://www.cs.toronto.edu/~kriz/cifar-10-python.tar.gz\n",
            "170500096/170498071 [==============================] - 3s 0us/step\n",
            "(50000, 32, 32, 3)\n"
          ],
          "name": "stdout"
        }
      ]
    },
    {
      "cell_type": "markdown",
      "metadata": {
        "id": "szDmexFGT7Qs"
      },
      "source": [
        "\n",
        "Next we will construct a **Base Model**, which in our case is a small CNN."
      ]
    },
    {
      "cell_type": "code",
      "metadata": {
        "id": "_Eeh6jvfBV4p"
      },
      "source": [
        "class ConvNet(objax.Module):\n",
        "  def __init__(self, number_of_channels = 3, number_of_classes = 10):\n",
        "    self.conv_1 = objax.nn.Sequential([objax.nn.Conv2D(number_of_channels, 16, 2), objax.functional.relu])\n",
        "    self.conv_2 = objax.nn.Sequential([objax.nn.Conv2D(16, 32, 2), objax.functional.relu])\n",
        "    self.linear = objax.nn.Linear(32, number_of_classes)\n",
        "\n",
        "  def __call__(self, x):\n",
        "    x = objax.functional.max_pool_2d(self.conv_1(x), 2, 2)\n",
        "    x = self.conv_2(x)\n",
        "  \n",
        "    x = x.mean((2,3)) #<--- global average pooling \n",
        "    x = self.linear(x)\n",
        "    return x\n",
        "\n",
        "#The following line creates the CNN\n",
        "model = ConvNet()\n",
        "#print(model.vars())\n",
        "#You can examine the architecture of our CNN by calling model.vars()"
      ],
      "execution_count": 4,
      "outputs": []
    },
    {
      "cell_type": "markdown",
      "metadata": {
        "id": "Crz2dQZBds89"
      },
      "source": [
        "Before we train our conv net, let's try to better understand concepts of convolution filter and linear layer. In the following, you will take the first very image of the training set, create a simple convolution routine, and show that our own routine matches what Objax returns. \n",
        "\n"
      ]
    },
    {
      "cell_type": "code",
      "metadata": {
        "colab": {
          "base_uri": "https://localhost:8080/",
          "height": 283
        },
        "id": "Epa7ETf6XddH",
        "outputId": "395b8b83-311e-4616-f91c-86d6399f5fb9"
      },
      "source": [
        "#Let's plot the first image in the training set.\n",
        "plt.imshow(X_train[0].transpose(1,2,0))"
      ],
      "execution_count": 5,
      "outputs": [
        {
          "output_type": "execute_result",
          "data": {
            "text/plain": [
              "<matplotlib.image.AxesImage at 0x7ffb2014fed0>"
            ]
          },
          "metadata": {
            "tags": []
          },
          "execution_count": 5
        },
        {
          "output_type": "display_data",
          "data": {
            "image/png": "[encoded data removed]",
            "text/plain": [
              "<Figure size 432x288 with 1 Axes>"
            ]
          },
          "metadata": {
            "tags": [],
            "needs_background": "light"
          }
        }
      ]
    },
    {
      "cell_type": "markdown",
      "metadata": {
        "id": "PQjS06vgXZ7r"
      },
      "source": [
        "Next, we will pass our image through Objax's convolution routine. Carefully examine the following code and try to understand the dimension of the filter weights and the output. "
      ]
    },
    {
      "cell_type": "code",
      "metadata": {
        "colab": {
          "base_uri": "https://localhost:8080/"
        },
        "id": "vFBbJHBpXXUc",
        "outputId": "78299e46-c334-45a2-c505-14d6a253ca9c"
      },
      "source": [
        "# We append the first image with a batch size of 1 so it can be fed into a convolution layer\n",
        "my_image = np.expand_dims(X_train[0], 0)\n",
        "\n",
        "#Consider a very simple CNN filter with stride = 1 and no padding ('VALID').\n",
        "Conv2d = objax.nn.Conv2D(nin = 3, nout = 2, k = 1, strides = 1, padding = 'VALID', use_bias = False)\n",
        "\n",
        "filter_weights = Conv2d.w.value #This is the initial weight of the filter, which we gradually update when training, we ignore bias for now\n",
        "\n",
        "#print(\"my image:\",np.shape(my_image))\n",
        "print(\"Filter weights:\", filter_weights)\n",
        "print(\"Conv output:\", Conv2d(my_image))\n",
        "print(\"Conv output shape:\", np.shape((filter_weights)))"
      ],
      "execution_count": 7,
      "outputs": [
        {
          "output_type": "stream",
          "text": [
            "Filter weights: [[[[ 0.08896715 -0.07279256]\n",
            "   [ 0.5039943  -0.5607323 ]\n",
            "   [ 0.69289994 -0.86930597]]]]\n",
            "Conv output: [[[[ 0.14117865  0.13613605  0.11829102 ...  1.0097966   0.9931872\n",
            "     0.98468655]\n",
            "   [ 0.19160458  0.16441517  0.16871695 ...  1.0254501   1.0205964\n",
            "     1.0155538 ]\n",
            "   [ 0.19664718  0.16639161  0.19392993 ...  1.0188706   1.0191027\n",
            "     1.0148438 ]\n",
            "   ...\n",
            "   [ 0.22187413  0.21178894  0.21178894 ...  0.27654663  0.28158924\n",
            "     0.29671702]\n",
            "   [ 0.18657598  0.17649078  0.17649078 ...  0.3068022   0.30175963\n",
            "     0.30175963]\n",
            "   [ 0.1664056   0.161363    0.1664056  ...  0.37739852  0.37235594\n",
            "     0.35722816]]\n",
            "\n",
            "  [[-0.16435704 -0.15846358 -0.13737418 ... -1.1958665  -1.1757659\n",
            "    -1.1652533 ]\n",
            "   [-0.22329159 -0.19162536 -0.19630872 ... -1.2115611  -1.2058\n",
            "    -1.1999066 ]\n",
            "   [-0.22918504 -0.1938243  -0.225776   ... -1.2002045  -1.2009761\n",
            "    -1.196932  ]\n",
            "   ...\n",
            "   [-0.259312   -0.24752508 -0.24752508 ... -0.31988704 -0.32578048\n",
            "    -0.34346086]\n",
            "   [-0.21805783 -0.20627092 -0.20627092 ... -0.35524777 -0.3493543\n",
            "    -0.3493543 ]\n",
            "   [-0.19448401 -0.18859056 -0.19448401 ... -0.43775612 -0.43186268\n",
            "    -0.4141823 ]]]]\n",
            "Conv output shape: (1, 1, 3, 2)\n"
          ],
          "name": "stdout"
        }
      ]
    },
    {
      "cell_type": "markdown",
      "metadata": {
        "id": "KsDg8yateSuH"
      },
      "source": [
        "**In the cells below, you will create your own convolution routine that takes in the image and the initial weights used by Objax's own convolution routine (Conv2d.w.value) and show that your convolution routine returns the same value than Objax's.**\n",
        "\n",
        "A simple implementation only requires 4 FOR loops. You may wish to draw inspiration from https://objax.readthedocs.io/en/latest/objax/nn.html?highlight=objax.nn.Conv2D#objax.nn.Conv2D"
      ]
    },
    {
      "cell_type": "code",
      "metadata": {
        "colab": {
          "base_uri": "https://localhost:8080/"
        },
        "id": "f5B6K9gyXTAx",
        "outputId": "5c726171-d3fb-494d-c1f0-6d8f50217047"
      },
      "source": [
        "#Solution to the problem PART1.2\n",
        "conv_output=Conv2d(my_image)\n",
        "\n",
        "#This is a function for more than 1 number of examples and filter size>1\n",
        "def my_conv_net(my_image, initial_filter_weights):\n",
        "  my_conv_output=np.zeros([1,2,32,32])\n",
        "  stride=1\n",
        "  filter_size_x=1\n",
        "  filter_size_y=1\n",
        "  w=((32-filter_size_x)/stride)+1\n",
        "  h=((32-filter_size_y)/stride)+1\n",
        "  for i in range(1): # m # loop over the batch of training examples\n",
        "     for h in range(32):     #n_H                      # loop over vertical axis of the output volume\n",
        "            for w in range(32):  #n_W                     # loop over horizontal axis of the output volume\n",
        "                for c in range(2):   #n_C                # loop over channels (= #filters) of the output volume\n",
        "                    \n",
        "                    # Finding the corners of the current \"slice\" \n",
        "                    vert_start  = h * stride\n",
        "                    vert_end    = vert_start + filter_size_y\n",
        "                    horiz_start = w * stride\n",
        "                    horiz_end   = horiz_start + filter_size_x\n",
        "                    \n",
        "                    \n",
        "                    s =np.multiply(my_image[i,:,vert_start:vert_end,horiz_start:horiz_end,].flatten(),(initial_filter_weights[:,:,:,c]).flatten() )\n",
        "                    my_conv_output[i,c, h, w]  = my_conv_output[i,c, h, w]+np.sum(s)\n",
        "                 \n",
        "\n",
        "  return my_conv_output\n",
        "\n",
        "my_conv_output=my_conv_net(my_image,filter_weights)\n",
        "print(\"Convolution output manually computed :\", my_conv_output)\n",
        "\n",
        "#To see that they are equal\n",
        "#There is just very little difference in the least significant digit\n",
        "# that's why, np.equal gives wrong result even though the results are basically same\n",
        "print(my_conv_output.flatten())\n",
        "print(conv_output.flatten())"
      ],
      "execution_count": 8,
      "outputs": [
        {
          "output_type": "stream",
          "text": [
            "Convolution output manually computed : [[[[ 0.14117865  0.13613605  0.11829102 ...  1.00979659  0.9931872\n",
            "     0.98468654]\n",
            "   [ 0.19160458  0.16441517  0.16871695 ...  1.02545006  1.02059643\n",
            "     1.01555384]\n",
            "   [ 0.19664718  0.16639161  0.19392992 ...  1.01887065  1.01910264\n",
            "     1.01484388]\n",
            "   ...\n",
            "   [ 0.22187412  0.21178893  0.21178893 ...  0.27654664  0.28158923\n",
            "     0.29671702]\n",
            "   [ 0.18657596  0.17649078  0.17649078 ...  0.3068022   0.30175961\n",
            "     0.30175961]\n",
            "   [ 0.16640559  0.161363    0.16640559 ...  0.37739851  0.37235592\n",
            "     0.35722814]]\n",
            "\n",
            "  [[-0.16435704 -0.15846358 -0.13737418 ... -1.19586641 -1.17576586\n",
            "    -1.16525327]\n",
            "   [-0.22329158 -0.19162536 -0.19630872 ... -1.21156101 -1.20580003\n",
            "    -1.19990658]\n",
            "   [-0.22918503 -0.19382431 -0.22577599 ... -1.20020451 -1.20097615\n",
            "    -1.19693196]\n",
            "   ...\n",
            "   [-0.25931199 -0.24752508 -0.24752508 ... -0.31988702 -0.32578048\n",
            "    -0.34346084]\n",
            "   [-0.21805781 -0.2062709  -0.2062709  ... -0.35524775 -0.34935429\n",
            "    -0.34935429]\n",
            "   [-0.19448399 -0.18859054 -0.19448399 ... -0.43775611 -0.43186265\n",
            "    -0.41418229]]]]\n",
            "[ 0.14117865  0.13613605  0.11829102 ... -0.43775611 -0.43186265\n",
            " -0.41418229]\n",
            "[ 0.14117865  0.13613605  0.11829102 ... -0.43775612 -0.43186268\n",
            " -0.4141823 ]\n"
          ],
          "name": "stdout"
        }
      ]
    },
    {
      "cell_type": "markdown",
      "metadata": {
        "id": "d9dbovOwiVDE"
      },
      "source": [
        "The outputs of last convolution layer is typically rearranged so it can be fed into a linear layer. Check that calling .mean((2,3)) rearranges the output of your convolution routine by examining the shape of the output. (Not graded) Think about alternative ways of rearranging the output from the convolution layer. "
      ]
    },
    {
      "cell_type": "code",
      "metadata": {
        "colab": {
          "base_uri": "https://localhost:8080/"
        },
        "id": "q7hngIUNXIMQ",
        "outputId": "04db5de2-8222-4366-ffe3-317344d419a7"
      },
      "source": [
        "#Check that .mean((2,3)) rearranges your image\n",
        "arr=my_conv_output.mean((2,3))\n",
        "\n",
        "print(arr)"
      ],
      "execution_count": 9,
      "outputs": [
        {
          "output_type": "stream",
          "text": [
            "[[ 0.35491109 -0.41205534]]\n"
          ],
          "name": "stdout"
        }
      ]
    },
    {
      "cell_type": "markdown",
      "metadata": {
        "id": "xTWfvL0mis3D"
      },
      "source": [
        "Take your rearranged output and feed it into a linear layer of appropriate size. Here is an example:\n",
        "\n",
        "```\n",
        "Linear_Layer = objax.nn.Linear(N, 1)\n",
        "Y = Linear_Layer(X)\n",
        "```\n",
        "Next, extract the weights and bias of the linear layer using \n",
        "```\n",
        "Linear_Layer.w.value\n",
        "Linear_Layer.b.value\n",
        "```\n",
        "**Using these values, write one line of code that manually implements the linear layer. Show that it provides the same value as Objax's own linear layer.** \n",
        "\n"
      ]
    },
    {
      "cell_type": "code",
      "metadata": {
        "colab": {
          "base_uri": "https://localhost:8080/"
        },
        "id": "Uq-TkFpgXDC7",
        "outputId": "b1b7d735-be4b-4bde-8997-cceaa7f02c04"
      },
      "source": [
        "#print(\"arr:\",arr) #Part 1.3\n",
        "Linear_Layer = objax.nn.Linear(2, 1)\n",
        "Y = Linear_Layer(arr)\n",
        "\n",
        "\n",
        "linear_w=Linear_Layer.w.value\n",
        "print(\"Linear Layer w value:\",linear_w)\n",
        "linear_b=Linear_Layer.b.value\n",
        "print(\"Linear Layer b value:\",linear_b)\n",
        "\n",
        "#This is the part we computed Y that manually implements linear layer\n",
        "manual_y=sum(arr.flatten()*linear_w.flatten()+linear_b)\n",
        "\n",
        "#To check the results\n",
        "print(\"manually calculated y:\",manual_y)\n",
        "print(\"Y:\",Y)\n",
        "print(\"Y values are equal\") #again only least significant digits differs, but\n",
        "#this is just related how it computes the values not methodologic difference\n"
      ],
      "execution_count": 10,
      "outputs": [
        {
          "output_type": "stream",
          "text": [
            "Linear Layer w value: [[-0.17576653]\n",
            " [-0.33976567]]\n",
            "Linear Layer b value: [0.]\n",
            "manually calculated y: 0.07762077450752258\n",
            "Y: [[0.07762077]]\n",
            "Y values are equal\n"
          ],
          "name": "stdout"
        }
      ]
    },
    {
      "cell_type": "markdown",
      "metadata": {
        "id": "96QQXl3d2kZn"
      },
      "source": [
        "You have now completed Part 1 of the assignment. Good job!\n"
      ]
    },
    {
      "cell_type": "markdown",
      "metadata": {
        "id": "2kqaH75UUaSE"
      },
      "source": [
        "##**Part 2. Training and Tuning a CNN**\n",
        "\n",
        "The following starter code trains the neural network in Part 1. However, the optimizer and batch sampling routine are left for you to implement. Complete the lines that says #PUT YOUR CODE HERE#\n",
        "\n",
        "Afterwards, train the model, and observe the training/validation loss and accuracy plots. You should observe that the validation accuracy is low and stagnates after a few epochs."
      ]
    },
    {
      "cell_type": "code",
      "metadata": {
        "id": "zBcHWoCl0URZ"
      },
      "source": [
        "#Define loss function as averaged value of of cross entropies\n",
        "def loss_function(x, labels):\n",
        "    logit = model(x)\n",
        "    return objax.functional.loss.cross_entropy_logits_sparse(logit, labels).mean()\n",
        "\n",
        "#Define a prediction function\n",
        "predict = objax.Jit(lambda x: objax.functional.softmax(model(x)), model.vars()) \n",
        "\n",
        "#Create an object that can be used to calculate the gradient and value of loss_function\n",
        "gv= objax.GradValues(loss_function, model.vars())\n",
        "\n",
        "#Create an object that can be used to provide trainable variables in the model\n",
        "tv = objax.ModuleList(objax.TrainRef(x) for x in model.vars().subset(objax.TrainVar))\n",
        "\n",
        "#Training routine\n",
        "def train_op(x, y, learning_rate):\n",
        "    lr = learning_rate\n",
        "    gradient, loss_value = gv(x, y)   # calculate gradient and loss value \"backprop\"\n",
        "    count=0\n",
        "    #next we update the trainable parameter using SGD and similar procedure\n",
        "    for grad, params in zip(gradient, tv.vars()):\n",
        "      params.value -= lr * grad\n",
        "      \n",
        "      ####################\n",
        "    \n",
        "        \n",
        "      \n",
        "      #PUT YOUR CODE HERE#\n",
        "      ####################                      \n",
        "    return loss_value                      # return loss value\n",
        "\n",
        "#make train_op (much) faster using JIT compilation\n",
        "train_op = objax.Jit(train_op, gv.vars() + tv.vars())"
      ],
      "execution_count": 11,
      "outputs": []
    },
    {
      "cell_type": "code",
      "metadata": {
        "id": "hGPpVTfG0Ug1"
      },
      "source": [
        "def train(EPOCHS = 20, BATCH = 32, LEARNING_RATE = 9e-4):\n",
        "  avg_train_loss_epoch = []\n",
        "  avg_val_loss_epoch = []\n",
        "  train_acc_epoch = []\n",
        "  val_acc_epoch = []\n",
        "\n",
        "  for epoch in range(EPOCHS):\n",
        "      avg_train_loss = 0 # (averaged) training loss per batch\n",
        "      avg_val_loss =  0  # (averaged) validation loss per batch\n",
        "      train_acc = 0      # training accuracy per batch\n",
        "      val_acc = 0        # validation accuracy per batch\n",
        "\n",
        "      # shuffle the examples prior to training to remove correlation \n",
        "      train_indices = np.arange(len(X_train)) \n",
        "      np.random.shuffle(train_indices)\n",
        "      for it in range(0, X_train.shape[0], BATCH):\n",
        "          batch =train_indices[it:it+BATCH] #PUT YOUR CODE HERE#\n",
        "          avg_train_loss += float(train_op(X_train[batch], Y_train[batch], LEARNING_RATE)[0]) * len(batch)\n",
        "          train_prediction = predict(X_train[batch]).argmax(1)\n",
        "          train_acc += (np.array(train_prediction).flatten() == Y_train[batch]).sum()\n",
        "      train_acc_epoch.append(train_acc/X_train.shape[0])\n",
        "      avg_train_loss_epoch.append(avg_train_loss/X_train.shape[0])\n",
        "\n",
        "      # run validation\n",
        "      val_indices = np.arange(len(X_valid)) \n",
        "      np.random.shuffle(val_indices)    \n",
        "      for it in range(0, X_valid.shape[0], BATCH):\n",
        "          batch = val_indices[it:it+BATCH] #PUT YOUR CODE HERE#\n",
        "          avg_val_loss += float(loss_function(X_valid[batch], Y_valid[batch])) * len(batch)\n",
        "          val_prediction = predict(X_valid[batch]).argmax(1)\n",
        "          val_acc += (np.array(val_prediction).flatten() == Y_valid[batch]).sum()\n",
        "      val_acc_epoch.append(val_acc/X_valid.shape[0])\n",
        "      avg_val_loss_epoch.append(avg_val_loss/X_valid.shape[0])\n",
        "\n",
        "      print('Epoch %04d  Training Loss %.2f Validation Loss %.2f Training Accuracy %.2f Validation Accuracy %.2f' % (epoch + 1, avg_train_loss/X_train.shape[0], avg_val_loss/X_valid.shape[0], 100*train_acc/X_train.shape[0], 100*val_acc/X_valid.shape[0]))\n",
        "  \n",
        "  #Plot training loss\n",
        "  plt.title(\"Train vs Validation Loss\")\n",
        "  plt.plot(avg_train_loss_epoch, label=\"Train\")\n",
        "  plt.plot(avg_val_loss_epoch, label=\"Validation\")\n",
        "  plt.xlabel(\"Epoch\")\n",
        "  plt.ylabel(\"Loss\")\n",
        "  plt.legend(loc='best')\n",
        "  plt.show()\n",
        "\n",
        "  plt.title(\"Train vs Validation Accuracy\")\n",
        "  plt.plot(train_acc_epoch, label=\"Train\")\n",
        "  plt.plot(val_acc_epoch, label=\"Validation\")\n",
        "  plt.xlabel(\"Epoch\")\n",
        "  plt.ylabel(\"Accuracy (%)\")\n",
        "  plt.legend(loc='best')\n",
        "  plt.show()"
      ],
      "execution_count": 12,
      "outputs": []
    },
    {
      "cell_type": "code",
      "metadata": {
        "colab": {
          "base_uri": "https://localhost:8080/",
          "height": 1000
        },
        "id": "8YqWtV5VYW45",
        "outputId": "6684f57c-3848-4daa-d273-266d07e69fab"
      },
      "source": [
        "\n",
        "train(EPOCHS = 60, BATCH = 32, LEARNING_RATE = 9e-4) #Part 2 base model with epochs=60"
      ],
      "execution_count": 13,
      "outputs": [
        {
          "output_type": "stream",
          "text": [
            "Epoch 0001  Training Loss 2.30 Validation Loss 2.30 Training Accuracy 9.88 Validation Accuracy 10.03\n",
            "Epoch 0002  Training Loss 2.30 Validation Loss 2.29 Training Accuracy 9.78 Validation Accuracy 10.02\n",
            "Epoch 0003  Training Loss 2.29 Validation Loss 2.29 Training Accuracy 9.90 Validation Accuracy 10.32\n",
            "Epoch 0004  Training Loss 2.29 Validation Loss 2.29 Training Accuracy 10.52 Validation Accuracy 10.58\n",
            "Epoch 0005  Training Loss 2.29 Validation Loss 2.29 Training Accuracy 10.49 Validation Accuracy 11.25\n",
            "Epoch 0006  Training Loss 2.29 Validation Loss 2.28 Training Accuracy 11.10 Validation Accuracy 10.77\n",
            "Epoch 0007  Training Loss 2.28 Validation Loss 2.28 Training Accuracy 11.10 Validation Accuracy 11.62\n",
            "Epoch 0008  Training Loss 2.28 Validation Loss 2.28 Training Accuracy 11.50 Validation Accuracy 12.08\n",
            "Epoch 0009  Training Loss 2.28 Validation Loss 2.27 Training Accuracy 11.84 Validation Accuracy 12.25\n",
            "Epoch 0010  Training Loss 2.27 Validation Loss 2.27 Training Accuracy 12.33 Validation Accuracy 12.58\n",
            "Epoch 0011  Training Loss 2.27 Validation Loss 2.27 Training Accuracy 12.70 Validation Accuracy 12.90\n",
            "Epoch 0012  Training Loss 2.26 Validation Loss 2.26 Training Accuracy 12.94 Validation Accuracy 13.13\n",
            "Epoch 0013  Training Loss 2.26 Validation Loss 2.26 Training Accuracy 13.40 Validation Accuracy 13.50\n",
            "Epoch 0014  Training Loss 2.25 Validation Loss 2.25 Training Accuracy 13.62 Validation Accuracy 13.85\n",
            "Epoch 0015  Training Loss 2.25 Validation Loss 2.24 Training Accuracy 14.31 Validation Accuracy 14.37\n",
            "Epoch 0016  Training Loss 2.24 Validation Loss 2.24 Training Accuracy 14.90 Validation Accuracy 14.60\n",
            "Epoch 0017  Training Loss 2.24 Validation Loss 2.23 Training Accuracy 15.56 Validation Accuracy 15.55\n",
            "Epoch 0018  Training Loss 2.23 Validation Loss 2.22 Training Accuracy 16.02 Validation Accuracy 16.88\n",
            "Epoch 0019  Training Loss 2.22 Validation Loss 2.21 Training Accuracy 16.91 Validation Accuracy 17.40\n",
            "Epoch 0020  Training Loss 2.21 Validation Loss 2.21 Training Accuracy 17.56 Validation Accuracy 18.27\n",
            "Epoch 0021  Training Loss 2.20 Validation Loss 2.20 Training Accuracy 18.29 Validation Accuracy 18.23\n",
            "Epoch 0022  Training Loss 2.20 Validation Loss 2.19 Training Accuracy 18.60 Validation Accuracy 19.38\n",
            "Epoch 0023  Training Loss 2.19 Validation Loss 2.18 Training Accuracy 19.02 Validation Accuracy 19.68\n",
            "Epoch 0024  Training Loss 2.18 Validation Loss 2.17 Training Accuracy 19.54 Validation Accuracy 20.20\n",
            "Epoch 0025  Training Loss 2.17 Validation Loss 2.16 Training Accuracy 19.79 Validation Accuracy 20.37\n",
            "Epoch 0026  Training Loss 2.16 Validation Loss 2.15 Training Accuracy 20.24 Validation Accuracy 20.33\n",
            "Epoch 0027  Training Loss 2.15 Validation Loss 2.14 Training Accuracy 20.40 Validation Accuracy 20.20\n",
            "Epoch 0028  Training Loss 2.14 Validation Loss 2.13 Training Accuracy 20.35 Validation Accuracy 20.58\n",
            "Epoch 0029  Training Loss 2.14 Validation Loss 2.13 Training Accuracy 20.69 Validation Accuracy 20.72\n",
            "Epoch 0030  Training Loss 2.13 Validation Loss 2.12 Training Accuracy 21.06 Validation Accuracy 20.92\n",
            "Epoch 0031  Training Loss 2.12 Validation Loss 2.11 Training Accuracy 21.33 Validation Accuracy 20.97\n",
            "Epoch 0032  Training Loss 2.12 Validation Loss 2.11 Training Accuracy 21.58 Validation Accuracy 21.78\n",
            "Epoch 0033  Training Loss 2.11 Validation Loss 2.11 Training Accuracy 21.82 Validation Accuracy 22.05\n",
            "Epoch 0034  Training Loss 2.11 Validation Loss 2.10 Training Accuracy 22.18 Validation Accuracy 22.03\n",
            "Epoch 0035  Training Loss 2.11 Validation Loss 2.10 Training Accuracy 22.07 Validation Accuracy 22.08\n",
            "Epoch 0036  Training Loss 2.10 Validation Loss 2.10 Training Accuracy 22.31 Validation Accuracy 22.27\n",
            "Epoch 0037  Training Loss 2.10 Validation Loss 2.09 Training Accuracy 22.35 Validation Accuracy 22.22\n",
            "Epoch 0038  Training Loss 2.10 Validation Loss 2.09 Training Accuracy 22.65 Validation Accuracy 21.93\n",
            "Epoch 0039  Training Loss 2.10 Validation Loss 2.09 Training Accuracy 22.30 Validation Accuracy 22.20\n",
            "Epoch 0040  Training Loss 2.09 Validation Loss 2.09 Training Accuracy 22.69 Validation Accuracy 22.38\n",
            "Epoch 0041  Training Loss 2.09 Validation Loss 2.09 Training Accuracy 22.88 Validation Accuracy 22.58\n",
            "Epoch 0042  Training Loss 2.09 Validation Loss 2.09 Training Accuracy 23.04 Validation Accuracy 22.57\n",
            "Epoch 0043  Training Loss 2.09 Validation Loss 2.08 Training Accuracy 23.09 Validation Accuracy 22.83\n",
            "Epoch 0044  Training Loss 2.09 Validation Loss 2.08 Training Accuracy 23.00 Validation Accuracy 22.50\n",
            "Epoch 0045  Training Loss 2.09 Validation Loss 2.08 Training Accuracy 23.21 Validation Accuracy 23.45\n",
            "Epoch 0046  Training Loss 2.09 Validation Loss 2.08 Training Accuracy 23.35 Validation Accuracy 23.02\n",
            "Epoch 0047  Training Loss 2.09 Validation Loss 2.08 Training Accuracy 23.43 Validation Accuracy 22.47\n",
            "Epoch 0048  Training Loss 2.09 Validation Loss 2.08 Training Accuracy 23.37 Validation Accuracy 23.18\n",
            "Epoch 0049  Training Loss 2.09 Validation Loss 2.08 Training Accuracy 23.53 Validation Accuracy 23.03\n",
            "Epoch 0050  Training Loss 2.09 Validation Loss 2.08 Training Accuracy 23.40 Validation Accuracy 23.55\n",
            "Epoch 0051  Training Loss 2.09 Validation Loss 2.08 Training Accuracy 23.79 Validation Accuracy 23.02\n",
            "Epoch 0052  Training Loss 2.08 Validation Loss 2.08 Training Accuracy 23.59 Validation Accuracy 23.90\n",
            "Epoch 0053  Training Loss 2.08 Validation Loss 2.08 Training Accuracy 24.00 Validation Accuracy 23.27\n",
            "Epoch 0054  Training Loss 2.08 Validation Loss 2.08 Training Accuracy 23.94 Validation Accuracy 22.97\n",
            "Epoch 0055  Training Loss 2.08 Validation Loss 2.08 Training Accuracy 23.87 Validation Accuracy 23.38\n",
            "Epoch 0056  Training Loss 2.08 Validation Loss 2.08 Training Accuracy 24.08 Validation Accuracy 24.13\n",
            "Epoch 0057  Training Loss 2.08 Validation Loss 2.07 Training Accuracy 24.06 Validation Accuracy 24.18\n",
            "Epoch 0058  Training Loss 2.08 Validation Loss 2.07 Training Accuracy 24.51 Validation Accuracy 23.53\n",
            "Epoch 0059  Training Loss 2.08 Validation Loss 2.07 Training Accuracy 24.51 Validation Accuracy 23.27\n",
            "Epoch 0060  Training Loss 2.08 Validation Loss 2.07 Training Accuracy 24.24 Validation Accuracy 24.25\n"
          ],
          "name": "stdout"
        },
        {
          "output_type": "display_data",
          "data": {
            "image/png": "[encoded data removed]",
            "text/plain": [
              "<Figure size 432x288 with 1 Axes>"
            ]
          },
          "metadata": {
            "tags": [],
            "needs_background": "light"
          }
        },
        {
          "output_type": "display_data",
          "data": {
            "image/png": "[encoded data removed]",
            "text/plain": [
              "<Figure size 432x288 with 1 Axes>"
            ]
          },
          "metadata": {
            "tags": [],
            "needs_background": "light"
          }
        }
      ]
    },
    {
      "cell_type": "markdown",
      "metadata": {
        "id": "hluN6UIbNyj7"
      },
      "source": [
        "Follow the assignment handout for questions to be answered in this part of the assignment."
      ]
    },
    {
      "cell_type": "code",
      "metadata": {
        "id": "S8LXS4oHZA9M"
      },
      "source": [
        "class ConvNet2(objax.Module):\n",
        "  def __init__(self, number_of_channels = 3, number_of_classes = 10):\n",
        "    self.conv_1 = objax.nn.Sequential([objax.nn.Conv2D(number_of_channels, 32, 2), objax.functional.relu])\n",
        "    self.conv_2 = objax.nn.Sequential([objax.nn.Conv2D(32, 128, 2), objax.functional.relu])\n",
        "    self.linear = objax.nn.Linear(128, number_of_classes)\n",
        "\n",
        "  def __call__(self, x):\n",
        "    x = objax.functional.max_pool_2d(self.conv_1(x), 2, 2)\n",
        "    x = objax.functional.max_pool_2d(self.conv_2(x), 2, 2)\n",
        "   \n",
        "    x = x.mean((2,3)) #<--- global average pooling \n",
        "\n",
        "    x = self.linear(x)\n",
        "    return x\n",
        "\n",
        "#The following line creates the CNN\n",
        "model2 = ConvNet2()"
      ],
      "execution_count": 14,
      "outputs": []
    },
    {
      "cell_type": "code",
      "metadata": {
        "id": "_0NJdLRriaeD"
      },
      "source": [
        "#Define loss function as averaged value of of cross entropies\n",
        "def loss_function(x, labels):\n",
        "    logit = model2(x)\n",
        "    return objax.functional.loss.cross_entropy_logits_sparse(logit, labels).mean()\n",
        "\n",
        "#Define a prediction function\n",
        "predict = objax.Jit(lambda x: objax.functional.softmax(model2(x)), model2.vars()) \n",
        "\n",
        "#Create an object that can be used to calculate the gradient and value of loss_function\n",
        "gv= objax.GradValues(loss_function, model2.vars())\n",
        "\n",
        "#Create an object that can be used to provide trainable variables in the model\n",
        "tv = objax.ModuleList(objax.TrainRef(x) for x in model2.vars().subset(objax.TrainVar))\n",
        "\n",
        "#Training routine\n",
        "def train_op(x, y, learning_rate):\n",
        "    lr = learning_rate\n",
        "    print(\"flags\")\n",
        "    gradient, loss_value = gv(x, y)   # calculate gradient and loss value \"backprop\"\n",
        "    count=0\n",
        "    #next we update the trainable parameter using SGD and similar procedure\n",
        "    for grad, params in zip(gradient, tv.vars()):\n",
        "      params.value -= lr * grad\n",
        "      \n",
        "      ####################\n",
        "    \n",
        "        \n",
        "      \n",
        "      #PUT YOUR CODE HERE#\n",
        "      ####################                      \n",
        "    return loss_value                      # return loss value\n",
        "\n",
        "#make train_op (much) faster using JIT compilation\n",
        "train_op = objax.Jit(train_op, gv.vars() + tv.vars())"
      ],
      "execution_count": 15,
      "outputs": []
    },
    {
      "cell_type": "code",
      "metadata": {
        "id": "fh-_hx_ns0ES"
      },
      "source": [
        "#Problem 2 part 7, testing my selected model2\n",
        "def train_last(EPOCHS = 20, BATCH = 32, LEARNING_RATE = 9e-4):\n",
        "  avg_train_loss_epoch = []\n",
        "  avg_val_loss_epoch = []\n",
        "  avg_test_loss_epoch = []\n",
        "  train_acc_epoch = []\n",
        "  val_acc_epoch = []\n",
        "  test_acc_epoch = []\n",
        "\n",
        "  for epoch in range(EPOCHS):\n",
        "      avg_train_loss = 0 # (averaged) training loss per batch\n",
        "      avg_val_loss =  0\n",
        "      avg_test_loss =  0   # (averaged) validation loss per batch\n",
        "      train_acc = 0      # training accuracy per batch\n",
        "      val_acc = 0 \n",
        "      test_acc=0       # validation accuracy per batch\n",
        "\n",
        "      # shuffle the examples prior to training to remove correlation \n",
        "      train_indices = np.arange(len(X_train)) \n",
        "      np.random.shuffle(train_indices)\n",
        "      for it in range(0, X_train.shape[0], BATCH):\n",
        "          batch =train_indices[it:it+BATCH] #PUT YOUR CODE HERE#\n",
        "          avg_train_loss += float(train_op(X_train[batch], Y_train[batch], LEARNING_RATE)[0]) * len(batch)\n",
        "          train_prediction = predict(X_train[batch]).argmax(1)\n",
        "          train_acc += (np.array(train_prediction).flatten() == Y_train[batch]).sum()\n",
        "      train_acc_epoch.append(train_acc/X_train.shape[0])\n",
        "      avg_train_loss_epoch.append(avg_train_loss/X_train.shape[0])\n",
        "\n",
        "      # run validation\n",
        "      val_indices = np.arange(len(X_valid)) \n",
        "      np.random.shuffle(val_indices)    \n",
        "      for it in range(0, X_valid.shape[0], BATCH):\n",
        "          batch = val_indices[it:it+BATCH] #PUT YOUR CODE HERE#\n",
        "          avg_val_loss += float(loss_function(X_valid[batch], Y_valid[batch])) * len(batch)\n",
        "          val_prediction = predict(X_valid[batch]).argmax(1)\n",
        "          val_acc += (np.array(val_prediction).flatten() == Y_valid[batch]).sum()\n",
        "      val_acc_epoch.append(val_acc/X_valid.shape[0])\n",
        "      avg_val_loss_epoch.append(avg_val_loss/X_valid.shape[0])\n",
        "\n",
        "      # run vtest\n",
        "      test_indices = np.arange(len(X_test)) \n",
        "      np.random.shuffle(test_indices)    \n",
        "      for it in range(0, X_test.shape[0], BATCH):\n",
        "          batch = test_indices[it:it+BATCH] #PUT YOUR CODE HERE#\n",
        "          avg_test_loss += float(loss_function(X_test[batch], Y_test[batch])) * len(batch)\n",
        "          test_prediction = predict(X_test[batch]).argmax(1)\n",
        "          test_acc += (np.array(test_prediction).flatten() == Y_test[batch]).sum()\n",
        "      test_acc_epoch.append(test_acc/X_test.shape[0])\n",
        "      avg_test_loss_epoch.append(avg_test_loss/X_test.shape[0])\n",
        "\n",
        "      print('Epoch %04d  Training Loss %.2f Validation Loss %.2f Test Loss %.2f Training Accuracy %.2f Validation Accuracy %.2f Test Accuracy %.2f' % (epoch + 1, avg_train_loss/X_train.shape[0], avg_val_loss/X_valid.shape[0],avg_test_loss/X_test.shape[0], 100*train_acc/X_train.shape[0], 100*val_acc/X_valid.shape[0],100*test_acc/X_test.shape[0]))\n",
        "  \n",
        "  #Plot training loss\n",
        "  plt.title(\"Train Validation Test Loss\")\n",
        "  plt.plot(avg_train_loss_epoch, label=\"Train\")\n",
        "  plt.plot(avg_val_loss_epoch, label=\"Validation\")\n",
        "  plt.plot(avg_test_loss_epoch, label=\"Test\")\n",
        "  plt.xlabel(\"Epoch\")\n",
        "  plt.ylabel(\"Loss\")\n",
        "  plt.legend(loc='best')\n",
        "  plt.show()\n",
        "\n",
        "  plt.title(\"Train Validation Test Accuracy\")\n",
        "  plt.plot(train_acc_epoch, label=\"Train\")\n",
        "  plt.plot(val_acc_epoch, label=\"Validation\")\n",
        "  plt.plot(test_acc_epoch, label=\"Test\")\n",
        "  plt.xlabel(\"Epoch\")\n",
        "  plt.ylabel(\"Accuracy (%)\")\n",
        "  plt.legend(loc='best')\n",
        "  plt.show()"
      ],
      "execution_count": 16,
      "outputs": []
    },
    {
      "cell_type": "code",
      "metadata": {
        "colab": {
          "base_uri": "https://localhost:8080/"
        },
        "id": "b4ABKxImijqh",
        "outputId": "9835c256-67aa-4b39-e5fa-410b44e32b91"
      },
      "source": [
        "train_last(EPOCHS = 30, BATCH = 64, LEARNING_RATE = 1e-1) #before running this part please reset \n",
        "#to get rid of variables and only run from conv2 model definition"
      ],
      "execution_count": null,
      "outputs": [
        {
          "output_type": "stream",
          "text": [
            "flags\n",
            "Epoch 0001  Training Loss 2.13 Validation Loss 2.10 Test Loss 2.12 Training Accuracy 25.07 Validation Accuracy 21.22 Test Accuracy 21.43\n",
            "Epoch 0002  Training Loss 1.96 Validation Loss 1.89 Test Loss 1.91 Training Accuracy 32.75 Validation Accuracy 28.35 Test Accuracy 27.27\n",
            "Epoch 0003  Training Loss 1.85 Validation Loss 1.75 Test Loss 1.77 Training Accuracy 37.25 Validation Accuracy 35.72 Test Accuracy 33.48\n",
            "Epoch 0004  Training Loss 1.76 Validation Loss 1.72 Test Loss 1.72 Training Accuracy 40.11 Validation Accuracy 36.48 Test Accuracy 36.48\n"
          ],
          "name": "stdout"
        }
      ]
    },
    {
      "cell_type": "code",
      "metadata": {
        "id": "t-61jYOgXC5H"
      },
      "source": [
        "class ConvNet3(objax.Module):\n",
        "  def __init__(self, number_of_channels = 3, number_of_classes = 10):\n",
        "    self.conv_1 = objax.nn.Sequential([objax.nn.Conv2D(number_of_channels, 64, 2), objax.functional.relu])\n",
        "    self.conv_2 = objax.nn.Sequential([objax.nn.Conv2D(64, 512, 2), objax.functional.relu])\n",
        "    self.linear = objax.nn.Linear(512, number_of_classes)\n",
        "\n",
        "  def __call__(self, x):\n",
        "    x = objax.functional.max_pool_2d(self.conv_1(x), 2, 2)\n",
        "    x = self.conv_2(x)\n",
        "  \n",
        "   \n",
        "    x = x.mean((2,3)) #<--- global average pooling \n",
        "\n",
        "    x = self.linear(x)\n",
        "    return x\n",
        "\n",
        "#The following line creates the CNN\n",
        "model3 = ConvNet3()"
      ],
      "execution_count": null,
      "outputs": []
    },
    {
      "cell_type": "code",
      "metadata": {
        "id": "Xy0kkVaqXJrn"
      },
      "source": [
        "#Define loss function as averaged value of of cross entropies\n",
        "def loss_function(x, labels):\n",
        "    logit = model3(x)\n",
        "    return objax.functional.loss.cross_entropy_logits_sparse(logit, labels).mean()\n",
        "\n",
        "#Define a prediction function\n",
        "predict = objax.Jit(lambda x: objax.functional.softmax(model3(x)), model3.vars()) \n",
        "\n",
        "#Create an object that can be used to calculate the gradient and value of loss_function\n",
        "gv= objax.GradValues(loss_function, model3.vars())\n",
        "\n",
        "#Create an object that can be used to provide trainable variables in the model\n",
        "tv = objax.ModuleList(objax.TrainRef(x) for x in model3.vars().subset(objax.TrainVar))\n",
        "\n",
        "#Training routine\n",
        "def train_op(x, y, learning_rate):\n",
        "    lr = learning_rate\n",
        "    print(\"flag3\")\n",
        "    gradient, loss_value = gv(x, y)   # calculate gradient and loss value \"backprop\"\n",
        "    count=0\n",
        "    #next we update the trainable parameter using SGD and similar procedure\n",
        "    for grad, params in zip(gradient, tv.vars()):\n",
        "      params.value -= lr * grad\n",
        "      \n",
        "      ####################\n",
        "    \n",
        "        \n",
        "      \n",
        "      #PUT YOUR CODE HERE#\n",
        "      ####################                      \n",
        "    return loss_value                      # return loss value\n",
        "\n",
        "#make train_op (much) faster using JIT compilation\n",
        "train_op = objax.Jit(train_op, gv.vars() + tv.vars())"
      ],
      "execution_count": null,
      "outputs": []
    },
    {
      "cell_type": "code",
      "metadata": {
        "id": "QDdpo-EqkvKt"
      },
      "source": [
        "train(EPOCHS = 60, BATCH = 16, LEARNING_RATE = 1e-2) #similar to above, reset the parameters and run only the part after conv3"
      ],
      "execution_count": null,
      "outputs": []
    },
    {
      "cell_type": "markdown",
      "metadata": {
        "id": "_XOXmJiGZF78"
      },
      "source": [
        "You have now completed Part 2 of the assignment. Good job!\n"
      ]
    },
    {
      "cell_type": "markdown",
      "metadata": {
        "id": "cno9fjO1o2Jq"
      },
      "source": [
        "##**Part 3. Trying Out a New Dataset**\n",
        "\n",
        "See the handout for instructions.\n"
      ]
    },
    {
      "cell_type": "code",
      "metadata": {
        "colab": {
          "base_uri": "https://localhost:8080/"
        },
        "id": "cn4WCyKIZ4iH",
        "outputId": "a6253dd4-50a3-45a5-a361-1adadb06a341"
      },
      "source": [
        "import tensorflow as tf\n",
        "X_train=[]\n",
        "Y_train=[]\n",
        "X_test=[]\n",
        "Y_test=[]\n",
        "fashion_mnist = tf.keras.datasets.fashion_mnist\n",
        "(X_train, Y_train), (X_test, Y_test) = tf.keras.datasets.fashion_mnist.load_data() #picked fashion_mnist dataset,gray coded\n",
        "X_train = X_train[:,None,:,:] / 255.0\n",
        "Y_train = Y_train.flatten()\n",
        "X_test = X_test[:,None,:,:] / 255.0\n",
        "Y_test = Y_test.flatten()\n",
        "\n",
        "np.random.seed(1)\n",
        "# To create a validation set, we first concate the original splitted dataset into a single dataset \n",
        "# then randomly shuffle the images and labels in the same way (seed = 1)\n",
        "X_data = np.concatenate([X_train, X_test], axis = 0)\n",
        "print(X_data.shape) #in total 70000 examples\n",
        "Y_data = np.concatenate([Y_train, Y_test], axis = 0)\n",
        "\n",
        "N = np.arange(len(X_data))\n",
        "np.random.shuffle(N)\n",
        "X_data = X_data[N]\n",
        "Y_data = Y_data[N]\n",
        "\n",
        "#Next, we partition the randomly shuffled dataset into training, validation and testset according a ratio\n",
        "train_ratio = 0.80\n",
        "valid_ratio = 0.1\n",
        "n_train = int(len(X_data) * train_ratio)\n",
        "n_valid = int(len(X_data) * valid_ratio)\n",
        "\n",
        "X_train, X_valid, X_test = X_data[:n_train], X_data[n_train:n_train+n_valid], X_data[n_train+n_valid:]\n",
        "Y_train, Y_valid, Y_test = Y_data[:n_train], Y_data[n_train:n_train+n_valid], Y_data[n_train+n_valid:]\n",
        "\n",
        "print(X_train.shape) #56000 training examples"
      ],
      "execution_count": null,
      "outputs": [
        {
          "output_type": "stream",
          "text": [
            "Downloading data from https://storage.googleapis.com/tensorflow/tf-keras-datasets/train-labels-idx1-ubyte.gz\n",
            "32768/29515 [=================================] - 0s 0us/step\n",
            "Downloading data from https://storage.googleapis.com/tensorflow/tf-keras-datasets/train-images-idx3-ubyte.gz\n",
            "26427392/26421880 [==============================] - 0s 0us/step\n",
            "Downloading data from https://storage.googleapis.com/tensorflow/tf-keras-datasets/t10k-labels-idx1-ubyte.gz\n",
            "8192/5148 [===============================================] - 0s 0us/step\n",
            "Downloading data from https://storage.googleapis.com/tensorflow/tf-keras-datasets/t10k-images-idx3-ubyte.gz\n",
            "4423680/4422102 [==============================] - 0s 0us/step\n",
            "(70000, 1, 28, 28)\n",
            "(56000, 1, 28, 28)\n"
          ],
          "name": "stdout"
        }
      ]
    },
    {
      "cell_type": "code",
      "metadata": {
        "id": "JvBUIa31B6Gz"
      },
      "source": [
        "class ConvNet4(objax.Module): #This is the model that I picked \n",
        "  def __init__(self, number_of_channels = 1, number_of_classes = 10):\n",
        "    self.conv_1 = objax.nn.Sequential([objax.nn.Conv2D(1, 8, 3), objax.functional.relu])\n",
        "    \n",
        "    self.conv_2 = objax.nn.Sequential([objax.nn.Conv2D(8, 32, 2), objax.functional.relu])\n",
        "    self.conv_3 = objax.nn.Sequential([objax.nn.Conv2D(32, 64, 2), objax.functional.relu])\n",
        "    self.linear = objax.nn.Linear(64, number_of_classes)\n",
        "\n",
        "  def __call__(self, x):\n",
        "    x = objax.functional.max_pool_2d(self.conv_1(x), 2, 2)\n",
        "    \n",
        "    x=objax.functional.max_pool_2d(self.conv_2(x), 2, 2)\n",
        "    x=objax.functional.max_pool_2d(self.conv_3(x), 2, 2)\n",
        "    x = x.mean((2,3)) #<--- global average pooling \n",
        "    x = self.linear(x)\n",
        "    return x\n",
        "\n",
        "#The following line creates the CNN\n",
        "model4 = ConvNet4()\n",
        "#print(model.vars())\n",
        "#You can examine the architecture of our CNN by calling model.vars()"
      ],
      "execution_count": null,
      "outputs": []
    },
    {
      "cell_type": "code",
      "metadata": {
        "id": "cHE3TEWMCfKF"
      },
      "source": [
        "#Define loss function as averaged value of of cross entropies\n",
        "def loss_function(x, labels):\n",
        "    logit = model4(x)\n",
        "   \n",
        "    return objax.functional.loss.cross_entropy_logits_sparse(logit, labels).mean()\n",
        "\n",
        "#Define a prediction function\n",
        "predict = objax.Jit(lambda x: objax.functional.softmax(model4(x)), model4.vars()) \n",
        "\n",
        "#Create an object that can be used to calculate the gradient and value of loss_function\n",
        "gv= objax.GradValues(loss_function, model4.vars())\n",
        "\n",
        "#Create an object that can be used to provide trainable variables in the model\n",
        "tv = objax.ModuleList(objax.TrainRef(x) for x in model4.vars().subset(objax.TrainVar))\n",
        "\n",
        "#Training routine\n",
        "def train_op(x, y, learning_rate):\n",
        "    lr = learning_rate\n",
        "    gradient, loss_value = gv(x, y)   # calculate gradient and loss value \"backprop\"\n",
        "    count=0\n",
        "    #next we update the trainable parameter using SGD and similar procedure\n",
        "    for grad, params in zip(gradient, tv.vars()):\n",
        "      params.value -= lr * grad\n",
        "      \n",
        "      ####################\n",
        "    \n",
        "        \n",
        "      \n",
        "      #PUT YOUR CODE HERE#\n",
        "      ####################                      \n",
        "    return loss_value                      # return loss value\n",
        "\n",
        "#make train_op (much) faster using JIT compilation\n",
        "train_op = objax.Jit(train_op, gv.vars() + tv.vars())"
      ],
      "execution_count": null,
      "outputs": []
    },
    {
      "cell_type": "code",
      "metadata": {
        "id": "wYSyuw91EHMC"
      },
      "source": [
        "def train(EPOCHS = 30, BATCH = 32, LEARNING_RATE = 1e-2):\n",
        "  avg_train_loss_epoch = []\n",
        "  avg_val_loss_epoch = []\n",
        "  train_acc_epoch = []\n",
        "  val_acc_epoch = []\n",
        "\n",
        "  for epoch in range(EPOCHS):\n",
        "      avg_train_loss = 0 # (averaged) training loss per batch\n",
        "      avg_val_loss =  0  # (averaged) validation loss per batch\n",
        "      train_acc = 0      # training accuracy per batch\n",
        "      val_acc = 0        # validation accuracy per batch\n",
        "\n",
        "      # shuffle the examples prior to training to remove correlation \n",
        "      train_indices = np.arange(len(X_train)) \n",
        "      np.random.shuffle(train_indices)\n",
        "      for it in range(0, X_train.shape[0], BATCH):\n",
        "          batch =train_indices[it:it+BATCH] #PUT YOUR CODE HERE#\n",
        "          avg_train_loss += float(train_op(X_train[batch], Y_train[batch], LEARNING_RATE)[0]) * len(batch)\n",
        "          train_prediction = predict(X_train[batch]).argmax(1)\n",
        "          train_acc += (np.array(train_prediction).flatten() == Y_train[batch]).sum()\n",
        "      train_acc_epoch.append(train_acc/X_train.shape[0])\n",
        "      avg_train_loss_epoch.append(avg_train_loss/X_train.shape[0])\n",
        "\n",
        "      # run validation\n",
        "      val_indices = np.arange(len(X_valid)) \n",
        "      np.random.shuffle(val_indices)    \n",
        "      for it in range(0, X_valid.shape[0], BATCH):\n",
        "          batch = val_indices[it:it+BATCH] #PUT YOUR CODE HERE#\n",
        "          avg_val_loss += float(loss_function(X_valid[batch], Y_valid[batch])) * len(batch)\n",
        "          val_prediction = predict(X_valid[batch]).argmax(1)\n",
        "          val_acc += (np.array(val_prediction).flatten() == Y_valid[batch]).sum()\n",
        "      val_acc_epoch.append(val_acc/X_valid.shape[0])\n",
        "      avg_val_loss_epoch.append(avg_val_loss/X_valid.shape[0])\n",
        "\n",
        "      print('Epoch %04d  Training Loss %.2f Validation Loss %.2f Training Accuracy %.2f Validation Accuracy %.2f' % (epoch + 1, avg_train_loss/X_train.shape[0], avg_val_loss/X_valid.shape[0], 100*train_acc/X_train.shape[0], 100*val_acc/X_valid.shape[0]))\n",
        "  \n",
        "  #Plot training loss\n",
        "  plt.title(\"Train vs Validation Loss\")\n",
        "  plt.plot(avg_train_loss_epoch, label=\"Train\")\n",
        "  plt.plot(avg_val_loss_epoch, label=\"Validation\")\n",
        "  plt.xlabel(\"Epoch\")\n",
        "  plt.ylabel(\"Loss\")\n",
        "  plt.legend(loc='best')\n",
        "  plt.show()\n",
        "\n",
        "  plt.title(\"Train vs Validation Accuracy\")\n",
        "  plt.plot(train_acc_epoch, label=\"Train\")\n",
        "  plt.plot(val_acc_epoch, label=\"Validation\")\n",
        "  plt.xlabel(\"Epoch\")\n",
        "  plt.ylabel(\"Accuracy (%)\")\n",
        "  plt.legend(loc='best')\n",
        "  plt.show()"
      ],
      "execution_count": null,
      "outputs": []
    },
    {
      "cell_type": "code",
      "metadata": {
        "id": "0ZZwbiQf8yst"
      },
      "source": [
        "train_last(EPOCHS = 30, BATCH = 16, LEARNING_RATE = 1e-1) #Q3.4"
      ],
      "execution_count": null,
      "outputs": []
    },
    {
      "cell_type": "markdown",
      "metadata": {
        "id": "Eye-uBnQWgc8"
      },
      "source": [
        "##**Problem 4. Open-Ended Exploration**\n",
        "\n",
        "See the handout for instructions."
      ]
    },
    {
      "cell_type": "code",
      "metadata": {
        "id": "DXIW2gwQg-nS"
      },
      "source": [
        "#.load_data() by default returns a split between training and test set. \n",
        "# We then adjust the training set into a format that can be accepted by our CNN\n",
        "(X_train, Y_train), (X_test, Y_test) = tf.keras.datasets.cifar10.load_data()\n",
        "print(X_train.shape)\n",
        "X_train = X_train.transpose(0, 3, 1, 2) / 255.0\n",
        "print(X_train.shape)\n",
        "Y_train = Y_train.flatten()\n",
        "X_test = X_test.transpose(0, 3, 1, 2) / 255.0\n",
        "Y_test = Y_test.flatten()\n",
        "\n",
        "np.random.seed(1)\n",
        "# To create a validation set, we first concate the original splitted dataset into a single dataset \n",
        "# then randomly shuffle the images and labels in the same way (seed = 1)\n",
        "X_data = np.concatenate([X_train, X_test], axis = 0)\n",
        "Y_data = np.concatenate([Y_train, Y_test], axis = 0)\n",
        "\n",
        "N = np.arange(len(X_data))\n",
        "np.random.shuffle(N)\n",
        "X_data = X_data[N]\n",
        "Y_data = Y_data[N]\n",
        "\n",
        "#Next, we partition the randomly shuffled dataset into training, validation and testset according a ratio\n",
        "train_ratio = 0.80\n",
        "valid_ratio = 0.1\n",
        "n_train = int(len(X_data) * train_ratio)\n",
        "n_valid = int(len(X_data) * valid_ratio)\n",
        "\n",
        "X_train, X_valid, X_test = X_data[:n_train], X_data[n_train:n_train+n_valid], X_data[n_train+n_valid:]\n",
        "Y_train, Y_valid, Y_test = Y_data[:n_train], Y_data[n_train:n_train+n_valid], Y_data[n_train+n_valid:]"
      ],
      "execution_count": null,
      "outputs": []
    },
    {
      "cell_type": "code",
      "metadata": {
        "id": "OPDruT0ThB1t"
      },
      "source": [
        "class ConvNet2(objax.Module): #I am using the same model that I picked in Part 2 -model2\n",
        "  def __init__(self, number_of_channels = 3, number_of_classes = 10):\n",
        "    self.conv_1 = objax.nn.Sequential([objax.nn.Conv2D(number_of_channels, 32, 2), objax.functional.relu])\n",
        "    self.conv_2 = objax.nn.Sequential([objax.nn.Conv2D(32, 64, 2), objax.functional.relu])\n",
        "    self.conv_3 = objax.nn.Sequential([objax.nn.Conv2D(64, 128, 2), objax.functional.relu])\n",
        "   # self.conv_4 = objax.nn.Sequential([objax.nn.Conv2D(64, 128, 2), objax.functional.relu]) #I tried to add this layer but did not improve so much\n",
        "\n",
        "    self.linear = objax.nn.Linear(128, number_of_classes)\n",
        "\n",
        "  def __call__(self, x):\n",
        "    x = objax.functional.max_pool_2d(self.conv_1(x), 2, 2) #max pooling\n",
        "    x = objax.functional.max_pool_2d(self.conv_2(x), 2, 2) #max pooling\n",
        "    x = objax.functional.average_pool_2d(self.conv_3(x), 2, 2) #average pooling\n",
        "    #x = objax.functional.average_pool_2d(self.conv_4(x), 2, 2)\n",
        "    x = x.mean((2,3)) #<--- global average pooling \n",
        "\n",
        "    x = self.linear(x)\n",
        "    return x\n",
        "\n",
        "#The following line creates the CNN\n",
        "model2 = ConvNet2()"
      ],
      "execution_count": null,
      "outputs": []
    },
    {
      "cell_type": "code",
      "metadata": {
        "id": "XZZSd3mKhFmB"
      },
      "source": [
        "#Define loss function as averaged value of of cross entropies\n",
        "def loss_function(x, labels):\n",
        "    logit = model2(x)\n",
        "    return objax.functional.loss.cross_entropy_logits_sparse(logit, labels).mean()\n",
        "\n",
        "#Define a prediction function\n",
        "predict = objax.Jit(lambda x: objax.functional.softmax(model2(x)), model2.vars()) \n",
        "\n",
        "#Create an object that can be used to calculate the gradient and value of loss_function\n",
        "gv= objax.GradValues(loss_function, model2.vars())\n",
        "\n",
        "#Create an object that can be used to provide trainable variables in the model\n",
        "tv = objax.ModuleList(objax.TrainRef(x) for x in model2.vars().subset(objax.TrainVar))\n",
        "\n",
        "#Training routine\n",
        "def train_op(x, y, learning_rate):\n",
        "    lr = learning_rate\n",
        "    gradient, loss_value = gv(x, y)   # calculate gradient and loss value \"backprop\"\n",
        "    count=0\n",
        "    #next we update the trainable parameter using SGD and similar procedure\n",
        "    for grad, params in zip(gradient, tv.vars()):\n",
        "      \n",
        "      \n",
        "      ####################\n",
        "      params.value -= lr * grad\n",
        "      ####################                      \n",
        "    return loss_value                      # return loss value\n",
        "\n",
        "#make train_op (much) faster using JIT compilation\n",
        "train_op = objax.Jit(train_op, gv.vars() + tv.vars())"
      ],
      "execution_count": null,
      "outputs": []
    },
    {
      "cell_type": "code",
      "metadata": {
        "id": "y9ad1zmVhNDl"
      },
      "source": [
        "#Problem 2 part 7, testing my selected model2\n",
        "def train_last(EPOCHS = 30, BATCH = 64, LEARNING_RATE = 1e-1):\n",
        "  avg_train_loss_epoch = []\n",
        "  avg_val_loss_epoch = []\n",
        "  avg_test_loss_epoch = []\n",
        "  train_acc_epoch = []\n",
        "  val_acc_epoch = []\n",
        "  test_acc_epoch = []\n",
        "\n",
        "  for epoch in range(EPOCHS):\n",
        "      avg_train_loss = 0 # (averaged) training loss per batch\n",
        "      avg_val_loss =  0\n",
        "      avg_test_loss =  0   # (averaged) validation loss per batch\n",
        "      train_acc = 0      # training accuracy per batch\n",
        "      val_acc = 0 \n",
        "      test_acc=0       # validation accuracy per batch\n",
        "\n",
        "      # shuffle the examples prior to training to remove correlation \n",
        "      train_indices = np.arange(len(X_train)) \n",
        "      np.random.shuffle(train_indices)\n",
        "      for it in range(0, X_train.shape[0], BATCH):\n",
        "          batch =train_indices[it:it+BATCH] #PUT YOUR CODE HERE#\n",
        "          avg_train_loss += float(train_op(X_train[batch], Y_train[batch], LEARNING_RATE)[0]) * len(batch)\n",
        "          train_prediction = predict(X_train[batch]).argmax(1)\n",
        "          train_acc += (np.array(train_prediction).flatten() == Y_train[batch]).sum()\n",
        "      train_acc_epoch.append(train_acc/X_train.shape[0])\n",
        "      avg_train_loss_epoch.append(avg_train_loss/X_train.shape[0])\n",
        "\n",
        "      # run validation\n",
        "      val_indices = np.arange(len(X_valid)) \n",
        "      np.random.shuffle(val_indices)    \n",
        "      for it in range(0, X_valid.shape[0], BATCH):\n",
        "          batch = val_indices[it:it+BATCH] #PUT YOUR CODE HERE#\n",
        "          avg_val_loss += float(loss_function(X_valid[batch], Y_valid[batch])) * len(batch)\n",
        "          val_prediction = predict(X_valid[batch]).argmax(1)\n",
        "          val_acc += (np.array(val_prediction).flatten() == Y_valid[batch]).sum()\n",
        "      val_acc_epoch.append(val_acc/X_valid.shape[0])\n",
        "      avg_val_loss_epoch.append(avg_val_loss/X_valid.shape[0])\n",
        "\n",
        "      # run vtest\n",
        "      test_indices = np.arange(len(X_test)) \n",
        "      np.random.shuffle(test_indices)    \n",
        "      for it in range(0, X_test.shape[0], BATCH):\n",
        "          batch = test_indices[it:it+BATCH] #PUT YOUR CODE HERE#\n",
        "          avg_test_loss += float(loss_function(X_test[batch], Y_test[batch])) * len(batch)\n",
        "          test_prediction = predict(X_test[batch]).argmax(1)\n",
        "          test_acc += (np.array(test_prediction).flatten() == Y_test[batch]).sum()\n",
        "      test_acc_epoch.append(test_acc/X_test.shape[0])\n",
        "      avg_test_loss_epoch.append(avg_test_loss/X_test.shape[0])\n",
        "\n",
        "      print('Epoch %04d  Training Loss %.2f Validation Loss %.2f Test Loss %.2f Training Accuracy %.2f Validation Accuracy %.2f Test Accuracy %.2f' % (epoch + 1, avg_train_loss/X_train.shape[0], avg_val_loss/X_valid.shape[0],avg_test_loss/X_test.shape[0], 100*train_acc/X_train.shape[0], 100*val_acc/X_valid.shape[0],100*test_acc/X_test.shape[0]))\n",
        "  \n",
        "  #Plot training loss\n",
        "  plt.title(\"Train Validation Test Loss\")\n",
        "  plt.plot(avg_train_loss_epoch, label=\"Train\")\n",
        "  plt.plot(avg_val_loss_epoch, label=\"Validation\")\n",
        "  plt.plot(avg_test_loss_epoch, label=\"Test\")\n",
        "  plt.xlabel(\"Epoch\")\n",
        "  plt.ylabel(\"Loss\")\n",
        "  plt.legend(loc='best')\n",
        "  plt.show()\n",
        "\n",
        "  plt.title(\"Train Validation Test Accuracy\")\n",
        "  plt.plot(train_acc_epoch, label=\"Train\")\n",
        "  plt.plot(val_acc_epoch, label=\"Validation\")\n",
        "  plt.plot(test_acc_epoch, label=\"Test\")\n",
        "  plt.xlabel(\"Epoch\")\n",
        "  plt.ylabel(\"Accuracy (%)\")\n",
        "  plt.legend(loc='best')\n",
        "  plt.show()"
      ],
      "execution_count": null,
      "outputs": []
    },
    {
      "cell_type": "code",
      "metadata": {
        "id": "7hFjmp8qhQHS"
      },
      "source": [
        "train_last(EPOCHS = 30, BATCH = 64, LEARNING_RATE = e-1)"
      ],
      "execution_count": null,
      "outputs": []
    }
  ]
}